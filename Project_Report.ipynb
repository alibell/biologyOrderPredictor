{
 "cells": [
  {
   "cell_type": "markdown",
   "metadata": {},
   "source": [
    "![Urgences - Image CC0 - pexels.com](img/pexels-pixabay-263402.jpg \"Urgences\")"
   ]
  },
  {
   "cell_type": "markdown",
   "metadata": {},
   "source": [
    "# Biology Order Prescription\n",
    "*Levi-Dan Azoulay*  \n",
    "*Ali Bellamine*"
   ]
  },
  {
   "cell_type": "code",
   "execution_count": 1,
   "metadata": {},
   "outputs": [],
   "source": [
    "import pandas as pd\n",
    "import numpy as np"
   ]
  },
  {
   "cell_type": "markdown",
   "metadata": {},
   "source": [
    "# Présentation du projet"
   ]
  },
  {
   "cell_type": "markdown",
   "metadata": {},
   "source": [
    "Chaque jour, environ 50 000 personnes se présentent dans un service d'accueil des urgences (SAU) en France. En moyenne, 75% des patients retournent à domicile, et 20% sont hospitalisés. La durée moyenne de présence au SAU est longue. On estime que seulement 20% attendront moins d'une heure, tandis que ~30% attendront entre 1h et 2H et ~30% attendront en 2 et 4H. Enfin, un peu plus de 10% resteront au SAU entre 4 et 6H. Dans un contexte de pénurie de soignants, le recours à la consultation au SAU est en constante augmentation depuis plusieurs années. L'optimisation du circuit des urgences est une problématique centrale. Le cout humain et financier des dysfonctionnements du circuit et de l'offre de soin est important. \n",
    "\n",
    "Le parcours classique du circuit des urgences est le suivant :  \n",
    "1. **Premier contact d'ordre administratif**\n",
    "2. **Premier contact soignant avec une infirmière d'accueil et d'orientation (IAO) (~M30) avec**  :\n",
    "    - Recueil du motif de consultation\n",
    "    - Prise des constantes\n",
    "    - Recueil de quelques antécédents et de l'ordonnance du patient \n",
    "    - Eventuellement ECG  \n",
    "\n",
    "\n",
    "Le patient est classé selon un score de gravité (bleu, vert, jaune, orange, rouge, ou 1-2-3-4-5)\n",
    "\n",
    "3. **Premier contact médical avec un médecin (~H1)** :\n",
    "    - Interrogatoire\n",
    "    - Examen clinique\n",
    "\n",
    "    \n",
    "A la suite de cette consultation, plusieurs cas de figures selon la situation.\n",
    "Le patient peut sortir avec ou sans ordonnance si le diagnostic est posé par l'examen clinique et ne nécéssite ni examen, ni hospitalisation.\n",
    "Le patient peut nécéssiter la réalisation d'examens (prise de sang, radiographie, scanner) ou motiver un avis d'un spécialiste. Auquel cas il doit attendre\n",
    "\n",
    "4. **Réalisation des examens complémentaire ou d'un avis (prescription, réalisation, récupération)**\n",
    "5. **Décision finale : Conclusion une fois les examens récupérés. (~H3)**\n",
    "\n",
    "Entre chaque étape, le patient attend pendant une durée plus ou moins longue. Le médecin lui « jongle » avec plusieurs patients à la fois à des étapes différentes. \n",
    "\n",
    "Nous proposons d'aider à raccourcir le temps entre l'arrivée du patient et sa sortie, en ne subordonnant pas la décision de réaliser un examen biologique à l'examen clinique du médecin. Nous savons que le temps entre l'arrivée au SAU et la première visite avec le médecin est le temps le plus long et le plus mal vécu par les patients. \n",
    "\n",
    "Nous proposons à l'aide d'un algorithme d'apprentissage statistique de prédire, dès les données fournies par l'IAO, la nécéssité de réaliser un examen de biologie médicale, afin de permettre aux IDE de prélever cet examen juste après l'IAO, de sorte que le médecin dès sa première visite peut conclure avec les résultats de la biologie, qu'il aurait sans cela, demandé et attendu de récuperer avant de conclure et de prendre en charge le patient. "
   ]
  },
  {
   "cell_type": "markdown",
   "metadata": {},
   "source": [
    "# Méthode et Objectif"
   ]
  },
  {
   "cell_type": "markdown",
   "metadata": {},
   "source": [
    "<table markdown=\"1\">\n",
    "     <TR>\n",
    "       <TH>Données d'entrée</TH>\n",
    "       <TH>Algorithme</TH>\n",
    "       <TH>Données de sortie</TH>\n",
    "     </TR>\n",
    "     <TR>\n",
    "          <TD></TD>\n",
    "          <TD></TD>\n",
    "          <TD>Vecteur {0,1}^d d'examens de biologie associée à sa réalisation (1) ou non (0)</TD>\n",
    "     </TR>\n",
    "     <TR>\n",
    "          <TD>Age</TD>\n",
    "          <TD ROWSPAN=\"6\">MLP<br \\>NLP (Embeddings, Word2Vec ...) <br \\>Autres</TD>\n",
    "          <TD>Ionogramme Complet - {0,1}</TD>\n",
    "     </TR>\n",
    "     <TR>\n",
    "          <TD>Sexe</TD>\n",
    "          <TD>Bilan hépato-cellulaire - {0,1}</TD>\n",
    "     </TR>\n",
    "     <TR>\n",
    "          <TD>Motif de consultation</TD>\n",
    "          <TD>Numération sanguine (NFS) - {0,1}</TD>\n",
    "     </TR>\n",
    "     <TR>\n",
    "          <TD>Paramètres vitaux (FC, SpO2, PA, T°, FR, EVA)</TD>\n",
    "          <TD>Glycémie - {0,1}</TD>\n",
    "     </TR>\n",
    "     <TR>\n",
    "          <TD>Ordonnance d'entrée du patient</TD>\n",
    "          <TD>Hémostase - {0,1}</TD>\n",
    "     </TR>\n",
    "     <TR>\n",
    "          <TD></TD>\n",
    "          <TD>...</TD>\n",
    "     </TR>\n",
    "</table>\n"
   ]
  },
  {
   "cell_type": "markdown",
   "metadata": {},
   "source": [
    "# Plan du documents"
   ]
  },
  {
   "cell_type": "markdown",
   "metadata": {},
   "source": [
    "Les étapes clés de ce projet sont les suivantes :\n",
    "\n",
    "- I. Identifier une base de données exploitable – Verrouiller la base  \n",
    "Base MIMIC-IV ED – Verrouillée et disponible via le présent dépôt\n",
    "- II. Explorer et visualiser les données  \n",
    "Recherche de corrélations, visualisation des données, description et analyse des inputs et output features\n",
    "- III. Sélection des variables d'interêts\n",
    "- IV. Définition et entrainement d'une solution d'apprentissage statistique"
   ]
  },
  {
   "cell_type": "markdown",
   "metadata": {},
   "source": [
    "# I. Identifier une base de donnée exploitable - Vérouiller la base"
   ]
  },
  {
   "cell_type": "markdown",
   "metadata": {},
   "source": [
    "Les données sont issus du projet MIMIC-IV.  \n",
    "Le projet MIMIC est un projet d'open-data médical initié par l'hopital _Beth Israel Deaconess_ à Boston.  \n",
    "Initialement, seul des données de réanimation été accessible.\n",
    "\n",
    "Pour sa 4ème édition, a été mis à disposition un jeu de données couvrant un spectre bien plus large :\n",
    "- Données relatives aux passages aux urgences\n",
    "- Données relatives aux hospitalisations\n",
    "- Données relatives aux séjour en réanimation\n",
    "- Données de radiographie thoracique avec compte rendu associé"
   ]
  },
  {
   "cell_type": "markdown",
   "metadata": {},
   "source": [
    "L'ensemble de ces données ont été mis à disposition dans le cadre de projets complémentaires :\n",
    "- [MIMIC-IV](https://physionet.org/content/mimiciv/0.4/) : hospitalisation et réanimation\n",
    "- [MIMIC-IV-ED](https://physionet.org/content/mimic-iv-ed/1.0/) : urgences\n",
    "- [MIMIC-IV-CXR](https://physionet.org/content/mimic-cxr/2.0.0/) : radiographie thoracique\n",
    "\n",
    "Ces bases sont complémentaires dans le sens où chaque collecte a été faite durant une période temporelle spécifique, qui se recoupe plus où moins.  \n",
    "Certains éléments nécessaires à l'exploitation de MIMIC-IV-ED sont présent dans MIMIC-IV.  \n",
    "La lecture de la documentation de MIMIC-IV et de MIMIC-IV-ED est vivement recommandé (lien ci-dessus).\n",
    "\n",
    "En complément, un certains nombre de ressources est disponible sur le site du projet [MIMIC-IV](https://mimic.mit.edu/)."
   ]
  },
  {
   "cell_type": "markdown",
   "metadata": {},
   "source": [
    "Nous proposons de travailler autours de ce jeu de données avec pour objectif la tache suivante : **prédire les examens biologiques qui seront réalisés lors de l'arrivé d'un patient aux urgences**  \n",
    "Les métriques d'évaluation des performances seront :\n",
    "- L'**accuracy**\n",
    "- La **precision**\n",
    "- L'**aire sous la courbe (AUC)**\n",
    "\n",
    "Nous attachons une importance particulière à la précision. En effet, une sur-prescription d'examen biologique non indiqué pourrait entrainer un effet contraire à l'effet escompté, en prolongant le temps de prise en charge des personnes concernées."
   ]
  },
  {
   "cell_type": "markdown",
   "metadata": {},
   "source": [
    "## I.1 Téléchargement des données"
   ]
  },
  {
   "cell_type": "markdown",
   "metadata": {},
   "source": [
    "La base de données de biologie étant volumineuse (nous y reviendrons plus bas), un pré-traitement des données a été effectué.  \n",
    "Le pré-traitement est le suivant :\n",
    "- Intégration de l'ensemble des données utiles au sein d'une base de données SQLITE\n",
    "- Tri des lignes de biologies afin de ne conserver que celles répondant au critères suivants :\n",
    "  - Date de réalisation >= date de début du passage aux urgences\n",
    "  - Date de réalisation <= date de fin du passage aux urgences\n",
    "\n",
    "*Le script de transformation peut être consulté dans `database_constitution/database_constitution.py`*\n",
    "\n",
    "Un token de téléchargement des données vous a normallement été mis à disposition."
   ]
  },
  {
   "cell_type": "markdown",
   "metadata": {},
   "source": [
    "```\n",
    "    # Commande à executer dans le terminal\n",
    "    pip install -r requirements.txt\n",
    "    python download_data.py [TOKEN]\n",
    "```"
   ]
  },
  {
   "cell_type": "markdown",
   "metadata": {},
   "source": [
    "## I.2 Récupération des données au format tabulaire"
   ]
  },
  {
   "cell_type": "markdown",
   "metadata": {},
   "source": [
    "Les données sont extraites depuis la base de données SQLITE de la façon suivante :\n",
    "  - Récupération et aggrégation des informations suivantes pour chaque consultation aux urgence identifié par un identifiant unique *stay_id* :\n",
    "    - Date de passage *intime*\n",
    "    - Genre *gender*\n",
    "    - Age *age*\n",
    "    - Température à l'accueil **temperature**\n",
    "    - Fréquence Cardiaque à l'accueil **heartrate**\n",
    "    - Fréquence respiratoire à l'accueil **resprate**\n",
    "    - Saturation en Oxygène à l'accueil **o2sat**\n",
    "    - Pression artérielle Systolique à l'accueil (**sbp**) et Diastolique (**dbp**)\n",
    "    - Cotation de douleur à l'accueil **pain**\n",
    "    - Motif de consultation à l'accueil **chiefcomplaint**\n",
    "    - Consultation dans les 7 derniers jours **last_7** ou 30 derniers jours **last_30**\n",
    "    - Antécédents connus au moment de la consultation selon la Classification Internationale des Maladies (CIM) : CIM-9 **icd9** ou CIM10 **icd10**\n",
    "    - Traitements habituels du patient lors de sa consultation, Generic Sequence Number (GSN) (**gsn**)\n",
    "  - Récupération des examens prescrits pour chaque consultation aux urgences :\n",
    "    - Les examens ont été regroupés par paquet correspondant aux techniques de laboratoire et aux organes / aspects fonctionnels explorés sur base de connaissance métier.\n",
    "    - Il s'agit pour chaque paquet d'examen d'une variables binaire indiquant si l'examen a été prescrit au moins une fois durant le passage aux urgences\n",
    "    - La prescription est identifié par la présence d'un résultat d'examen dans la table de résultats d'examens biologiques **labevents**\n",
    "    - Les différentes modalités d'examens sont :\n",
    "      - Cardiaque (**Cardiaque**)\n",
    "      - Coagulation (**Coagulation**)\n",
    "      - Gazométrie (**Gazometrie**)\n",
    "      - Glycemie Sanguine (**Glycemie_Sanguine**)\n",
    "      - Hépato-biliaire (**Hepato-Biliaire**)\n",
    "      - Ionogramme Complet (**IonoC**)\n",
    "      - Lipase (**Lipase**)\n",
    "      - Numération de Formule Sanguine (**NFS**)\n",
    "      - Phospho-Calcique (**Phospho-Calcique**)"
   ]
  },
  {
   "cell_type": "code",
   "execution_count": 3,
   "metadata": {},
   "outputs": [],
   "source": [
    "from scripts import preprocessing\n",
    "\n",
    "lab_dictionnary = pd.read_csv(\"./config/lab_items.csv\").set_index(\"item_id\")[\"3\"].to_dict()\n",
    "get_drugs, get_diseases = True, True\n",
    "\n",
    "X = preprocessing.generate_features_dataset(\n",
    "    database=\"./data/mimic-iv.sqlite\",\n",
    "    get_drugs=get_drugs,\n",
    "    get_diseases=get_diseases\n",
    ")\n",
    "\n",
    "y = preprocessing.generate_labels_dataset(\n",
    "    database=\"./data/mimic-iv.sqlite\",\n",
    "    lab_dictionnary=lab_dictionnary,\n",
    ")\n",
    "\n",
    "# Par conception, last_7 et last_30 doivent valoir 0 lorsque manquant\n",
    "X[\"last_7\"].fillna(0)\n",
    "X[\"last_30\"].fillna(0)\n",
    "\n",
    "assert((X[\"stay_id\"] != y[\"stay_id\"]).sum() == 0) # Sanity check"
   ]
  },
  {
   "cell_type": "markdown",
   "metadata": {},
   "source": [
    "# II. Explorer et visualiser les données"
   ]
  },
  {
   "cell_type": "markdown",
   "metadata": {},
   "source": [
    "## II.1. Exploration des features"
   ]
  },
  {
   "cell_type": "code",
   "execution_count": 16,
   "metadata": {},
   "outputs": [],
   "source": [
    "# Visualisation de la distribution des NA\n",
    "# Visualisation de la distribution des features selon les labels\n",
    "# Visualisation des corrélations\n",
    "# Visualisation du texte\n",
    "# Analyser des ATCD\n",
    "# Analyse des traitements"
   ]
  },
  {
   "cell_type": "markdown",
   "metadata": {},
   "source": [
    "## II. 2. Exploration des labels"
   ]
  },
  {
   "cell_type": "code",
   "execution_count": 14,
   "metadata": {},
   "outputs": [],
   "source": [
    "# Visualisation de la fréquence des labels"
   ]
  },
  {
   "cell_type": "markdown",
   "metadata": {},
   "source": [
    "# III. Sélection des variables d'intérêt"
   ]
  },
  {
   "cell_type": "code",
   "execution_count": 9,
   "metadata": {},
   "outputs": [],
   "source": [
    "# Définir la stratégie de sélection des features (voir sklearn)\n",
    "# L'appliquer et sortir un dataset pertinent"
   ]
  },
  {
   "cell_type": "markdown",
   "metadata": {},
   "source": [
    "# IV. Définition et entrainement un algorithme d'apprentissage statistique"
   ]
  },
  {
   "cell_type": "code",
   "execution_count": 15,
   "metadata": {},
   "outputs": [],
   "source": [
    "# Prévoir la pipeline de traitement\n",
    "# Algorithmes à produire :\n",
    "# Tree classifier simple : argument, explicabilité\n",
    "# MLP\n",
    "# Ajouter les traitements et voir\n",
    "# Ajouter les ATCD et voir\n",
    "# Ajouter le texte et voir"
   ]
  },
  {
   "cell_type": "markdown",
   "metadata": {},
   "source": [
    "# OLD - History"
   ]
  },
  {
   "cell_type": "code",
   "execution_count": 5,
   "metadata": {},
   "outputs": [],
   "source": [
    "from sklearn.model_selection import train_test_split\n",
    "from sklearn.impute import SimpleImputer, MissingIndicator, KNNImputer\n",
    "from sklearn.linear_model import LogisticRegression\n",
    "from sklearn.multioutput import MultiOutputClassifier\n",
    "from sklearn.neural_network import MLPClassifier\n",
    "from sklearn.compose import ColumnTransformer\n",
    "from sklearn.preprocessing import OrdinalEncoder, StandardScaler, PolynomialFeatures\n",
    "from sklearn.pipeline import Pipeline, FeatureUnion\n",
    "from sklearn.ensemble import RandomForestClassifier\n",
    "from sklearn.feature_extraction.text import CountVectorizer, TfidfTransformer\n",
    "from matplotlib import pyplot as plt"
   ]
  },
  {
   "cell_type": "code",
   "execution_count": 6,
   "metadata": {},
   "outputs": [],
   "source": [
    "import torch"
   ]
  },
  {
   "cell_type": "code",
   "execution_count": 32,
   "metadata": {},
   "outputs": [],
   "source": [
    "X[\"time\"] = pd.to_datetime(X[\"intime\"])\n",
    "X[\"time\"] = X[\"time\"].dt.hour*3600+X[\"time\"].dt.minute*60\n",
    "#X[\"temperature\"] = ((X[\"temperature\"]-32)*(5/9))-37 # On prend 37 comme norme\n",
    "#X[\"heartrate\"] = X[\"heartrate\"]-80\n",
    "#X[\"resprate\"] = X[\"resprate\"]-18\n",
    "#X[\"o2sat\"] = X[\"o2sat\"]-100\n",
    "#X[\"sbp\"] = X[\"sbp\"]-120\n",
    "#X[\"dbp\"] = X[\"dbp\"]-80"
   ]
  },
  {
   "cell_type": "code",
   "execution_count": 72,
   "metadata": {},
   "outputs": [
    {
     "data": {
      "text/plain": [
       "IonoC\n",
       "0    AxesSubplot(0.125,0.125;0.775x0.755)\n",
       "1    AxesSubplot(0.125,0.125;0.775x0.755)\n",
       "Name: age, dtype: object"
      ]
     },
     "execution_count": 72,
     "metadata": {},
     "output_type": "execute_result"
    },
    {
     "data": {
      "image/png": "[encoded data removed]",
      "text/plain": [
       "<Figure size 432x288 with 1 Axes>"
      ]
     },
     "metadata": {
      "needs_background": "light"
     },
     "output_type": "display_data"
    }
   ],
   "source": [
    "pd.merge(\n",
    "    X,\n",
    "    y,\n",
    "    left_on=\"stay_id\",\n",
    "    right_on=\"stay_id\"\n",
    ").groupby('IonoC')[\"age\"].plot(kind='kde')"
   ]
  },
  {
   "cell_type": "code",
   "execution_count": 49,
   "metadata": {},
   "outputs": [],
   "source": [
    "X.loc[(X[\"temperature\"] >= 107),\"temperature\"] = 107"
   ]
  },
  {
   "cell_type": "code",
   "execution_count": 71,
   "metadata": {},
   "outputs": [
    {
     "data": {
      "text/plain": [
       "<matplotlib.legend.Legend at 0x7fac92863fa0>"
      ]
     },
     "execution_count": 71,
     "metadata": {},
     "output_type": "execute_result"
    },
    {
     "data": {
      "image/png": "[encoded data removed]",
      "text/plain": [
       "<Figure size 432x288 with 1 Axes>"
      ]
     },
     "metadata": {
      "needs_background": "light"
     },
     "output_type": "display_data"
    }
   ],
   "source": [
    "X[\"temperature_norm\"] = (X[\"temperature\"]-X[\"temperature\"].mean())/(X[\"temperature\"].max()-X[\"temperature\"].min())\n",
    "ax = plt.subplot()\n",
    "pd.merge(\n",
    "    X,\n",
    "    y,\n",
    "    left_on=\"stay_id\",\n",
    "    right_on=\"stay_id\"\n",
    ").groupby('IonoC')[\"temperature_norm\"].plot(kind='kde', ax=ax)\n",
    "ax.set_xlim(-0.1, 0.1)\n",
    "ax.legend()"
   ]
  },
  {
   "cell_type": "code",
   "execution_count": 73,
   "metadata": {},
   "outputs": [
    {
     "data": {
      "text/html": [
       "<div>\n",
       "<style scoped>\n",
       "    .dataframe tbody tr th:only-of-type {\n",
       "        vertical-align: middle;\n",
       "    }\n",
       "\n",
       "    .dataframe tbody tr th {\n",
       "        vertical-align: top;\n",
       "    }\n",
       "\n",
       "    .dataframe thead th {\n",
       "        text-align: right;\n",
       "    }\n",
       "</style>\n",
       "<table border=\"1\" class=\"dataframe\">\n",
       "  <thead>\n",
       "    <tr style=\"text-align: right;\">\n",
       "      <th></th>\n",
       "      <th>stay_id</th>\n",
       "      <th>intime</th>\n",
       "      <th>gender</th>\n",
       "      <th>age</th>\n",
       "      <th>temperature</th>\n",
       "      <th>heartrate</th>\n",
       "      <th>resprate</th>\n",
       "      <th>o2sat</th>\n",
       "      <th>sbp</th>\n",
       "      <th>dbp</th>\n",
       "      <th>pain</th>\n",
       "      <th>chiefcomplaint</th>\n",
       "      <th>last_7</th>\n",
       "      <th>last_30</th>\n",
       "      <th>icd9</th>\n",
       "      <th>icd10</th>\n",
       "      <th>gsn</th>\n",
       "      <th>time</th>\n",
       "      <th>temperature_norm</th>\n",
       "    </tr>\n",
       "  </thead>\n",
       "  <tbody>\n",
       "    <tr>\n",
       "      <th>0</th>\n",
       "      <td>30000012</td>\n",
       "      <td>2126-02-14 20:22:00</td>\n",
       "      <td>F</td>\n",
       "      <td>65</td>\n",
       "      <td>98.8</td>\n",
       "      <td>96.0</td>\n",
       "      <td>18.0</td>\n",
       "      <td>93.0</td>\n",
       "      <td>160.0</td>\n",
       "      <td>54.0</td>\n",
       "      <td>0.0</td>\n",
       "      <td>CHANGE IN MENTAL STATUS</td>\n",
       "      <td>0.0</td>\n",
       "      <td>1.0</td>\n",
       "      <td>[2761, 4589, 5712, 5990, 7804]</td>\n",
       "      <td>NaN</td>\n",
       "      <td>[8209, 21413, 2510, 27462, 66295, 6818, 6818, ...</td>\n",
       "      <td>73320</td>\n",
       "      <td>0.007457</td>\n",
       "    </tr>\n",
       "    <tr>\n",
       "      <th>1</th>\n",
       "      <td>30000017</td>\n",
       "      <td>2185-06-18 11:51:00</td>\n",
       "      <td>M</td>\n",
       "      <td>39</td>\n",
       "      <td>NaN</td>\n",
       "      <td>73.0</td>\n",
       "      <td>18.0</td>\n",
       "      <td>97.0</td>\n",
       "      <td>156.0</td>\n",
       "      <td>112.0</td>\n",
       "      <td>0.0</td>\n",
       "      <td>ETOH, Unable to ambulate</td>\n",
       "      <td>1.0</td>\n",
       "      <td>1.0</td>\n",
       "      <td>[07070, 30300, V600]</td>\n",
       "      <td>NaN</td>\n",
       "      <td>NaN</td>\n",
       "      <td>42660</td>\n",
       "      <td>NaN</td>\n",
       "    </tr>\n",
       "    <tr>\n",
       "      <th>2</th>\n",
       "      <td>30000038</td>\n",
       "      <td>2152-12-07 16:37:00</td>\n",
       "      <td>F</td>\n",
       "      <td>80</td>\n",
       "      <td>97.1</td>\n",
       "      <td>54.0</td>\n",
       "      <td>18.0</td>\n",
       "      <td>95.0</td>\n",
       "      <td>143.0</td>\n",
       "      <td>73.0</td>\n",
       "      <td>0.0</td>\n",
       "      <td>Cough</td>\n",
       "      <td>NaN</td>\n",
       "      <td>NaN</td>\n",
       "      <td>[9221, 92231, 92232, 95901, E8889]</td>\n",
       "      <td>NaN</td>\n",
       "      <td>[16925, 15864, 16278, 17037, 17037, 21413, 289...</td>\n",
       "      <td>59820</td>\n",
       "      <td>-0.008446</td>\n",
       "    </tr>\n",
       "    <tr>\n",
       "      <th>3</th>\n",
       "      <td>30000039</td>\n",
       "      <td>2165-10-06 11:47:00</td>\n",
       "      <td>M</td>\n",
       "      <td>80</td>\n",
       "      <td>98.6</td>\n",
       "      <td>85.0</td>\n",
       "      <td>16.0</td>\n",
       "      <td>98.0</td>\n",
       "      <td>189.0</td>\n",
       "      <td>96.0</td>\n",
       "      <td>0.0</td>\n",
       "      <td>s/p Fall</td>\n",
       "      <td>NaN</td>\n",
       "      <td>NaN</td>\n",
       "      <td>NaN</td>\n",
       "      <td>NaN</td>\n",
       "      <td>[8209, 19293]</td>\n",
       "      <td>42420</td>\n",
       "      <td>0.005586</td>\n",
       "    </tr>\n",
       "    <tr>\n",
       "      <th>4</th>\n",
       "      <td>30000055</td>\n",
       "      <td>2155-07-18 17:03:00</td>\n",
       "      <td>F</td>\n",
       "      <td>63</td>\n",
       "      <td>99.4</td>\n",
       "      <td>85.0</td>\n",
       "      <td>16.0</td>\n",
       "      <td>100.0</td>\n",
       "      <td>NaN</td>\n",
       "      <td>NaN</td>\n",
       "      <td>0.0</td>\n",
       "      <td>L Ear pain</td>\n",
       "      <td>NaN</td>\n",
       "      <td>NaN</td>\n",
       "      <td>[3804]</td>\n",
       "      <td>NaN</td>\n",
       "      <td>[8182]</td>\n",
       "      <td>61380</td>\n",
       "      <td>0.013070</td>\n",
       "    </tr>\n",
       "    <tr>\n",
       "      <th>...</th>\n",
       "      <td>...</td>\n",
       "      <td>...</td>\n",
       "      <td>...</td>\n",
       "      <td>...</td>\n",
       "      <td>...</td>\n",
       "      <td>...</td>\n",
       "      <td>...</td>\n",
       "      <td>...</td>\n",
       "      <td>...</td>\n",
       "      <td>...</td>\n",
       "      <td>...</td>\n",
       "      <td>...</td>\n",
       "      <td>...</td>\n",
       "      <td>...</td>\n",
       "      <td>...</td>\n",
       "      <td>...</td>\n",
       "      <td>...</td>\n",
       "      <td>...</td>\n",
       "      <td>...</td>\n",
       "    </tr>\n",
       "    <tr>\n",
       "      <th>448967</th>\n",
       "      <td>39999939</td>\n",
       "      <td>2155-08-04 11:15:00</td>\n",
       "      <td>M</td>\n",
       "      <td>57</td>\n",
       "      <td>98.4</td>\n",
       "      <td>84.0</td>\n",
       "      <td>16.0</td>\n",
       "      <td>97.0</td>\n",
       "      <td>152.0</td>\n",
       "      <td>90.0</td>\n",
       "      <td>2.0</td>\n",
       "      <td>Chest pain</td>\n",
       "      <td>NaN</td>\n",
       "      <td>NaN</td>\n",
       "      <td>NaN</td>\n",
       "      <td>NaN</td>\n",
       "      <td>[8182, 16578, 22159, 22159, 27475, 27475]</td>\n",
       "      <td>40500</td>\n",
       "      <td>0.003715</td>\n",
       "    </tr>\n",
       "    <tr>\n",
       "      <th>448968</th>\n",
       "      <td>39999953</td>\n",
       "      <td>2152-06-22 14:08:00</td>\n",
       "      <td>F</td>\n",
       "      <td>36</td>\n",
       "      <td>98.2</td>\n",
       "      <td>108.0</td>\n",
       "      <td>18.0</td>\n",
       "      <td>100.0</td>\n",
       "      <td>155.0</td>\n",
       "      <td>94.0</td>\n",
       "      <td>5.0</td>\n",
       "      <td>Palpitations, Dizziness, Headache</td>\n",
       "      <td>NaN</td>\n",
       "      <td>NaN</td>\n",
       "      <td>NaN</td>\n",
       "      <td>NaN</td>\n",
       "      <td>[6655]</td>\n",
       "      <td>50880</td>\n",
       "      <td>0.001844</td>\n",
       "    </tr>\n",
       "    <tr>\n",
       "      <th>448969</th>\n",
       "      <td>39999961</td>\n",
       "      <td>2145-05-16 17:16:00</td>\n",
       "      <td>F</td>\n",
       "      <td>55</td>\n",
       "      <td>99.3</td>\n",
       "      <td>119.0</td>\n",
       "      <td>22.0</td>\n",
       "      <td>NaN</td>\n",
       "      <td>132.0</td>\n",
       "      <td>74.0</td>\n",
       "      <td>7.0</td>\n",
       "      <td>Chest pain, Cough, Dyspnea</td>\n",
       "      <td>0.0</td>\n",
       "      <td>1.0</td>\n",
       "      <td>[4019, 7295, 7820, 78909, E9208]</td>\n",
       "      <td>[C50919, H6692, I10, L308, L538, R112, R29810,...</td>\n",
       "      <td>[16927, 16995, 16995, 13109, 2173, 2169, 18368...</td>\n",
       "      <td>62160</td>\n",
       "      <td>0.012134</td>\n",
       "    </tr>\n",
       "    <tr>\n",
       "      <th>448970</th>\n",
       "      <td>39999964</td>\n",
       "      <td>2130-06-05 11:53:00</td>\n",
       "      <td>M</td>\n",
       "      <td>50</td>\n",
       "      <td>98.6</td>\n",
       "      <td>64.0</td>\n",
       "      <td>18.0</td>\n",
       "      <td>99.0</td>\n",
       "      <td>127.0</td>\n",
       "      <td>64.0</td>\n",
       "      <td>4.0</td>\n",
       "      <td>SI, Depression</td>\n",
       "      <td>0.0</td>\n",
       "      <td>1.0</td>\n",
       "      <td>[71946, 7242, 78659, 9221, 92231, 92411, 95901...</td>\n",
       "      <td>[F329, H5711, M25561, M549, M79662, R45851, R5...</td>\n",
       "      <td>[44633, 44633, 4561, 4561, 4561, 4540, 4540]</td>\n",
       "      <td>42780</td>\n",
       "      <td>0.005586</td>\n",
       "    </tr>\n",
       "    <tr>\n",
       "      <th>448971</th>\n",
       "      <td>39999965</td>\n",
       "      <td>2125-09-14 00:46:00</td>\n",
       "      <td>F</td>\n",
       "      <td>30</td>\n",
       "      <td>97.5</td>\n",
       "      <td>65.0</td>\n",
       "      <td>16.0</td>\n",
       "      <td>100.0</td>\n",
       "      <td>132.0</td>\n",
       "      <td>77.0</td>\n",
       "      <td>0.0</td>\n",
       "      <td>Labor</td>\n",
       "      <td>NaN</td>\n",
       "      <td>NaN</td>\n",
       "      <td>NaN</td>\n",
       "      <td>NaN</td>\n",
       "      <td>NaN</td>\n",
       "      <td>2760</td>\n",
       "      <td>-0.004704</td>\n",
       "    </tr>\n",
       "  </tbody>\n",
       "</table>\n",
       "<p>448972 rows × 19 columns</p>\n",
       "</div>"
      ],
      "text/plain": [
       "         stay_id               intime gender  age  temperature  heartrate  \\\n",
       "0       30000012  2126-02-14 20:22:00      F   65         98.8       96.0   \n",
       "1       30000017  2185-06-18 11:51:00      M   39          NaN       73.0   \n",
       "2       30000038  2152-12-07 16:37:00      F   80         97.1       54.0   \n",
       "3       30000039  2165-10-06 11:47:00      M   80         98.6       85.0   \n",
       "4       30000055  2155-07-18 17:03:00      F   63         99.4       85.0   \n",
       "...          ...                  ...    ...  ...          ...        ...   \n",
       "448967  39999939  2155-08-04 11:15:00      M   57         98.4       84.0   \n",
       "448968  39999953  2152-06-22 14:08:00      F   36         98.2      108.0   \n",
       "448969  39999961  2145-05-16 17:16:00      F   55         99.3      119.0   \n",
       "448970  39999964  2130-06-05 11:53:00      M   50         98.6       64.0   \n",
       "448971  39999965  2125-09-14 00:46:00      F   30         97.5       65.0   \n",
       "\n",
       "        resprate  o2sat    sbp    dbp  pain  \\\n",
       "0           18.0   93.0  160.0   54.0   0.0   \n",
       "1           18.0   97.0  156.0  112.0   0.0   \n",
       "2           18.0   95.0  143.0   73.0   0.0   \n",
       "3           16.0   98.0  189.0   96.0   0.0   \n",
       "4           16.0  100.0    NaN    NaN   0.0   \n",
       "...          ...    ...    ...    ...   ...   \n",
       "448967      16.0   97.0  152.0   90.0   2.0   \n",
       "448968      18.0  100.0  155.0   94.0   5.0   \n",
       "448969      22.0    NaN  132.0   74.0   7.0   \n",
       "448970      18.0   99.0  127.0   64.0   4.0   \n",
       "448971      16.0  100.0  132.0   77.0   0.0   \n",
       "\n",
       "                           chiefcomplaint  last_7  last_30  \\\n",
       "0                 CHANGE IN MENTAL STATUS     0.0      1.0   \n",
       "1                ETOH, Unable to ambulate     1.0      1.0   \n",
       "2                                   Cough     NaN      NaN   \n",
       "3                                s/p Fall     NaN      NaN   \n",
       "4                              L Ear pain     NaN      NaN   \n",
       "...                                   ...     ...      ...   \n",
       "448967                         Chest pain     NaN      NaN   \n",
       "448968  Palpitations, Dizziness, Headache     NaN      NaN   \n",
       "448969         Chest pain, Cough, Dyspnea     0.0      1.0   \n",
       "448970                     SI, Depression     0.0      1.0   \n",
       "448971                              Labor     NaN      NaN   \n",
       "\n",
       "                                                     icd9  \\\n",
       "0                          [2761, 4589, 5712, 5990, 7804]   \n",
       "1                                    [07070, 30300, V600]   \n",
       "2                      [9221, 92231, 92232, 95901, E8889]   \n",
       "3                                                     NaN   \n",
       "4                                                  [3804]   \n",
       "...                                                   ...   \n",
       "448967                                                NaN   \n",
       "448968                                                NaN   \n",
       "448969                   [4019, 7295, 7820, 78909, E9208]   \n",
       "448970  [71946, 7242, 78659, 9221, 92231, 92411, 95901...   \n",
       "448971                                                NaN   \n",
       "\n",
       "                                                    icd10  \\\n",
       "0                                                     NaN   \n",
       "1                                                     NaN   \n",
       "2                                                     NaN   \n",
       "3                                                     NaN   \n",
       "4                                                     NaN   \n",
       "...                                                   ...   \n",
       "448967                                                NaN   \n",
       "448968                                                NaN   \n",
       "448969  [C50919, H6692, I10, L308, L538, R112, R29810,...   \n",
       "448970  [F329, H5711, M25561, M549, M79662, R45851, R5...   \n",
       "448971                                                NaN   \n",
       "\n",
       "                                                      gsn   time  \\\n",
       "0       [8209, 21413, 2510, 27462, 66295, 6818, 6818, ...  73320   \n",
       "1                                                     NaN  42660   \n",
       "2       [16925, 15864, 16278, 17037, 17037, 21413, 289...  59820   \n",
       "3                                           [8209, 19293]  42420   \n",
       "4                                                  [8182]  61380   \n",
       "...                                                   ...    ...   \n",
       "448967          [8182, 16578, 22159, 22159, 27475, 27475]  40500   \n",
       "448968                                             [6655]  50880   \n",
       "448969  [16927, 16995, 16995, 13109, 2173, 2169, 18368...  62160   \n",
       "448970       [44633, 44633, 4561, 4561, 4561, 4540, 4540]  42780   \n",
       "448971                                                NaN   2760   \n",
       "\n",
       "        temperature_norm  \n",
       "0               0.007457  \n",
       "1                    NaN  \n",
       "2              -0.008446  \n",
       "3               0.005586  \n",
       "4               0.013070  \n",
       "...                  ...  \n",
       "448967          0.003715  \n",
       "448968          0.001844  \n",
       "448969          0.012134  \n",
       "448970          0.005586  \n",
       "448971         -0.004704  \n",
       "\n",
       "[448972 rows x 19 columns]"
      ]
     },
     "execution_count": 73,
     "metadata": {},
     "output_type": "execute_result"
    }
   ],
   "source": [
    "X"
   ]
  },
  {
   "cell_type": "code",
   "execution_count": 76,
   "metadata": {},
   "outputs": [
    {
     "data": {
      "text/plain": [
       "<matplotlib.legend.Legend at 0x7fac923802e0>"
      ]
     },
     "execution_count": 76,
     "metadata": {},
     "output_type": "execute_result"
    },
    {
     "data": {
      "image/png": "[encoded data removed]",
      "text/plain": [
       "<Figure size 432x288 with 1 Axes>"
      ]
     },
     "metadata": {
      "needs_background": "light"
     },
     "output_type": "display_data"
    }
   ],
   "source": [
    "ax = plt.subplot()\n",
    "pd.merge(\n",
    "    X,\n",
    "    y,\n",
    "    left_on=\"stay_id\",\n",
    "    right_on=\"stay_id\"\n",
    ").groupby('IonoC')[\"heartrate\"].plot(kind='kde', ax=ax)\n",
    "ax.set_xlim(0, 150)\n",
    "ax.legend()"
   ]
  },
  {
   "cell_type": "code",
   "execution_count": 77,
   "metadata": {},
   "outputs": [
    {
     "data": {
      "text/plain": [
       "<matplotlib.legend.Legend at 0x7fac922ea850>"
      ]
     },
     "execution_count": 77,
     "metadata": {},
     "output_type": "execute_result"
    },
    {
     "data": {
      "image/png": "[encoded data removed]",
      "text/plain": [
       "<Figure size 432x288 with 1 Axes>"
      ]
     },
     "metadata": {
      "needs_background": "light"
     },
     "output_type": "display_data"
    }
   ],
   "source": [
    "ax = plt.subplot()\n",
    "pd.merge(\n",
    "    X,\n",
    "    y,\n",
    "    left_on=\"stay_id\",\n",
    "    right_on=\"stay_id\"\n",
    ").groupby('IonoC')[\"resprate\"].plot(kind='kde', ax=ax)\n",
    "ax.set_xlim(0, 30)\n",
    "ax.legend()"
   ]
  },
  {
   "cell_type": "code",
   "execution_count": 81,
   "metadata": {},
   "outputs": [
    {
     "data": {
      "text/plain": [
       "<matplotlib.legend.Legend at 0x7fac91e23cd0>"
      ]
     },
     "execution_count": 81,
     "metadata": {},
     "output_type": "execute_result"
    },
    {
     "data": {
      "image/png": "[encoded data removed]",
      "text/plain": [
       "<Figure size 432x288 with 1 Axes>"
      ]
     },
     "metadata": {
      "needs_background": "light"
     },
     "output_type": "display_data"
    }
   ],
   "source": [
    "ax = plt.subplot()\n",
    "pd.merge(\n",
    "    X,\n",
    "    y,\n",
    "    left_on=\"stay_id\",\n",
    "    right_on=\"stay_id\"\n",
    ").groupby('IonoC')[\"o2sat\"].plot(kind='kde', ax=ax)\n",
    "ax.set_xlim(60, 100)\n",
    "ax.legend()"
   ]
  },
  {
   "cell_type": "code",
   "execution_count": 86,
   "metadata": {},
   "outputs": [
    {
     "data": {
      "text/plain": [
       "<matplotlib.legend.Legend at 0x7fac9191ccd0>"
      ]
     },
     "execution_count": 86,
     "metadata": {},
     "output_type": "execute_result"
    },
    {
     "data": {
      "image/png": "[encoded data removed]",
      "text/plain": [
       "<Figure size 432x288 with 1 Axes>"
      ]
     },
     "metadata": {
      "needs_background": "light"
     },
     "output_type": "display_data"
    }
   ],
   "source": [
    "ax = plt.subplot()\n",
    "pd.merge(\n",
    "    X,\n",
    "    y,\n",
    "    left_on=\"stay_id\",\n",
    "    right_on=\"stay_id\"\n",
    ").groupby('IonoC')[\"sbp\"].plot(kind='kde', ax=ax)\n",
    "ax.set_xlim(0, 300)\n",
    "ax.legend()"
   ]
  },
  {
   "cell_type": "code",
   "execution_count": 85,
   "metadata": {},
   "outputs": [
    {
     "data": {
      "text/plain": [
       "<matplotlib.legend.Legend at 0x7fac91a19ac0>"
      ]
     },
     "execution_count": 85,
     "metadata": {},
     "output_type": "execute_result"
    },
    {
     "data": {
      "image/png": "[encoded data removed]",
      "text/plain": [
       "<Figure size 432x288 with 1 Axes>"
      ]
     },
     "metadata": {
      "needs_background": "light"
     },
     "output_type": "display_data"
    }
   ],
   "source": [
    "ax = plt.subplot()\n",
    "pd.merge(\n",
    "    X,\n",
    "    y,\n",
    "    left_on=\"stay_id\",\n",
    "    right_on=\"stay_id\"\n",
    ").groupby('IonoC')[\"dbp\"].plot(kind='kde', ax=ax)\n",
    "ax.set_xlim(0, 200)\n",
    "ax.legend()"
   ]
  },
  {
   "cell_type": "code",
   "execution_count": 98,
   "metadata": {},
   "outputs": [],
   "source": [
    "pd.merge(\n",
    "    X,\n",
    "    y,\n",
    "    left_on=\"stay_id\",\n",
    "    right_on=\"stay_id\"\n",
    ")[[\"IonoC\",\"last_7\"]].fillna(0).groupby('IonoC')[\"last_7\"].plot.bar()"
   ]
  },
  {
   "cell_type": "code",
   "execution_count": null,
   "metadata": {},
   "outputs": [],
   "source": [
    "pd.merge(\n",
    "    X,\n",
    "    y,\n",
    "    left_on=\"stay_id\",\n",
    "    right_on=\"stay_id\"\n",
    ")[[\"IonoC\",\"last_7\"]].fillna(0).groupby('IonoC')[\"last_30\"].plot.bar()"
   ]
  },
  {
   "cell_type": "code",
   "execution_count": 90,
   "metadata": {},
   "outputs": [],
   "source": [
    "import numpy as np"
   ]
  },
  {
   "cell_type": "code",
   "execution_count": 93,
   "metadata": {},
   "outputs": [
    {
     "data": {
      "text/plain": [
       "<matplotlib.legend.Legend at 0x7fac913a2df0>"
      ]
     },
     "execution_count": 93,
     "metadata": {},
     "output_type": "execute_result"
    },
    {
     "data": {
      "image/png": "[encoded data removed]",
      "text/plain": [
       "<Figure size 432x288 with 1 Axes>"
      ]
     },
     "metadata": {
      "needs_background": "light"
     },
     "output_type": "display_data"
    }
   ],
   "source": [
    "ax = plt.subplot()\n",
    "pd.merge(\n",
    "    X,\n",
    "    y,\n",
    "    left_on=\"stay_id\",\n",
    "    right_on=\"stay_id\"\n",
    ").groupby('IonoC')[\"pain\"].plot(kind='kde', ax=ax)\n",
    "ax.set_xlim(0, 20)\n",
    "ax.legend()"
   ]
  },
  {
   "cell_type": "code",
   "execution_count": null,
   "metadata": {},
   "outputs": [],
   "source": [
    "X_train, X_test, y_train, y_test = train_test_split(X, y, test_size=0.1, random_state=42)"
   ]
  },
  {
   "cell_type": "code",
   "execution_count": null,
   "metadata": {},
   "outputs": [],
   "source": [
    "categorical_features = [\n",
    "    \"gender\",\n",
    "    \"last_7\",\n",
    "    \"last_30\"\n",
    "]\n",
    "\n",
    "continuous_features = [\n",
    "    \"pain\",\n",
    "    \"time\",\n",
    "    \"age\",\n",
    "    \"temperature\",\n",
    "    \"heartrate\",\n",
    "    \"resprate\",\n",
    "    \"o2sat\",\n",
    "    \"sbp\",\n",
    "    \"dbp\"\n",
    "]+X_train.columns[14:-1].tolist()\n",
    "\n",
    "continuous_features = [\n",
    "    \"pain\",\n",
    "    \"time\",\n",
    "    \"age\",\n",
    "    \"temperature\",\n",
    "    \"heartrate\",\n",
    "    \"resprate\",\n",
    "    \"o2sat\",\n",
    "    \"sbp\",\n",
    "    \"dbp\"\n",
    "]"
   ]
  },
  {
   "cell_type": "code",
   "execution_count": null,
   "metadata": {},
   "outputs": [],
   "source": [
    "features_preprocessing = ColumnTransformer([\n",
    "    (\"binary_encoder\", OrdinalEncoder(), categorical_features),\n",
    "    (\"identity\", StandardScaler(), continuous_features),\n",
    "    (\"missing\", MissingIndicator(), continuous_features),\n",
    "    (\"nlp\", Pipeline([\n",
    "        (\"cv\", CountVectorizer(ngram_range=(1,1), max_features=200)),\n",
    "        (\"tf-idf\", TfidfTransformer())\n",
    "    ]), \"chiefcomplaint\"),\n",
    "])\n",
    "\n",
    "features_preprocessing_without_nlp = ColumnTransformer([\n",
    "    (\"binary_encoder\", OrdinalEncoder(), categorical_features),\n",
    "    (\"identity\", StandardScaler(), continuous_features),\n",
    "    (\"missing\", MissingIndicator(), continuous_features)\n",
    "])\n",
    "\n",
    "full_preprocessing = Pipeline([\n",
    "    (\"features\", features_preprocessing_without_nlp),\n",
    "    (\"imputer\", SimpleImputer(strategy=\"median\"))\n",
    "])\n",
    "\n",
    "pipeline = Pipeline([\n",
    "    (\"preprocessing\", full_preprocessing),\n",
    "    (\"mlp\", MLPClassifier(hidden_layer_sizes=(100,20), verbose=True, learning_rate_init=1e-3, batch_size=64, max_iter=100))\n",
    "])"
   ]
  },
  {
   "cell_type": "code",
   "execution_count": null,
   "metadata": {},
   "outputs": [],
   "source": [
    "preprocesser = full_preprocessing.fit(X_train, y_train)"
   ]
  },
  {
   "cell_type": "code",
   "execution_count": null,
   "metadata": {},
   "outputs": [],
   "source": [
    "from transformers import BertTokenizer, BertModel\n",
    "import pickle\n",
    "import numpy as np"
   ]
  },
  {
   "cell_type": "code",
   "execution_count": null,
   "metadata": {},
   "outputs": [],
   "source": [
    "bert_name = \"dmis-lab/biobert-v1.1\"\n",
    "drug_name = \"./models/ATC_2\"\n",
    "\n",
    "biobert_tokenizer = BertTokenizer.from_pretrained(bert_name)\n",
    "\n",
    "with open(drug_name+\"_encoder.model\", \"rb\") as f:\n",
    "    drug_encoder = pickle.load(f)"
   ]
  },
  {
   "cell_type": "code",
   "execution_count": null,
   "metadata": {},
   "outputs": [],
   "source": [
    "#drug_columns = X_train.columns[14:-1]\n",
    "\n",
    "#columns_id = drug_encoder.transform(\n",
    "#    np.expand_dims(np.array(X_train[drug_columns].columns), 1)\n",
    "#).flatten().astype(\"int32\")"
   ]
  },
  {
   "cell_type": "code",
   "execution_count": null,
   "metadata": {},
   "outputs": [],
   "source": [
    "def get_drug_token_list (df):\n",
    "\n",
    "    df_drug_tokens = (df[drug_columns] >= 1)*1\n",
    "    df_drug_tokens = df_drug_tokens.rename(columns=dict(zip(drug_columns, columns_id)))\n",
    "\n",
    "    df_drug_tokens_list = (df_drug_tokens*(df_drug_tokens.columns+1)).apply(lambda x: list(set(x.tolist()))[1:], axis=1) \\\n",
    "        .tolist()\n",
    "\n",
    "    df_drug_tokens_list = [torch.tensor(x)-1 for x in df_drug_tokens_list]\n",
    "\n",
    "    return df_drug_tokens_list"
   ]
  },
  {
   "cell_type": "code",
   "execution_count": null,
   "metadata": {},
   "outputs": [],
   "source": [
    "X_train_preprocess = torch.tensor(preprocesser.transform(X_train), dtype=torch.float32)\n",
    "X_train_tokens = biobert_tokenizer(X_train[\"chiefcomplaint\"].tolist())[\"input_ids\"]\n",
    "#X_train_tokens_drug = get_drug_token_list(X_train)\n",
    "y_train_preprocess = torch.tensor(y_train.iloc[:,1:].values, dtype=torch.float32)\n",
    "X_test_preprocess = torch.tensor(preprocesser.transform(X_test), dtype=torch.float32)\n",
    "X_test_tokens = biobert_tokenizer(X_test[\"chiefcomplaint\"].tolist())[\"input_ids\"]\n",
    "#X_test_tokens_drug = get_drug_token_list(X_test)\n",
    "y_test_preprocess = torch.tensor(y_test.iloc[:,1:].values, dtype=torch.float32)\n",
    "X_train_tokens = [torch.tensor(x) for x in X_train_tokens]\n",
    "X_test_tokens = [torch.tensor(x) for x in X_test_tokens]"
   ]
  },
  {
   "cell_type": "code",
   "execution_count": null,
   "metadata": {},
   "outputs": [],
   "source": [
    "from torch import nn, optim\n",
    "from torch.nn.utils.rnn import pad_sequence, pack_padded_sequence, pad_packed_sequence\n",
    "import torch\n",
    "import operator"
   ]
  },
  {
   "cell_type": "code",
   "execution_count": null,
   "metadata": {},
   "outputs": [],
   "source": [
    "class neural_net (nn.Module):\n",
    "    def __init__(self, n_features, n_outputs, device=\"cpu\"):\n",
    "        super().__init__()\n",
    "\n",
    "        self.embedding_encoder = nn.Sequential(*[\n",
    "            nn.Linear(768, 250),\n",
    "            nn.ReLU(),\n",
    "            nn.Linear(250, 50),\n",
    "            nn.ReLU(),\n",
    "            nn.Linear(50, 20),\n",
    "            nn.ReLU()\n",
    "        ])\n",
    "\n",
    "        self.network = nn.Sequential(*[\n",
    "            nn.Linear(n_features+20, 100),\n",
    "            nn.ReLU(),\n",
    "            nn.Linear(100, 50),\n",
    "            nn.ReLU(),\n",
    "            nn.Linear(50, n_outputs),\n",
    "            nn.Sigmoid()\n",
    "        ])\n",
    "\n",
    "        self.biobert_model = BertModel.from_pretrained(bert_name).to(device)\n",
    "        self.drug_embedding = torch.load(f\"{drug_name}_embedding.model\").to(device)     \n",
    "\n",
    "        for x in self.biobert_model.parameters():\n",
    "            x.requires_grad = False\n",
    "\n",
    "        #self.drug_embedding.requires_grad = True\n",
    "        #self.biobert_model.embeddings.requires_grad = True\n",
    "            \n",
    "        #self.loss = nn.BCELoss(weight=torch.tensor(y_train.iloc[:,1:].mean().values))\n",
    "        self.loss = nn.BCELoss()\n",
    "        #self.loss = nn.MultiLabelSoftMarginLoss()\n",
    "        #self.loss = nn.CrossEntropyLoss(weight=torch.tensor(y_train.iloc[:,1:].mean().values))\n",
    "        self.optimizer = optim.Adam(self.parameters(), lr=1e-3)\n",
    "\n",
    "    def forward(self, x):\n",
    "        \n",
    "        x_data = x[0]\n",
    "        x_tokens = x[1]\n",
    "        #x_drugs = x[2]\n",
    "\n",
    "        x_bert = self.biobert_model.embeddings.word_embeddings(x_tokens)\n",
    "        x_bert_mask = (x_tokens != 0).unsqueeze(2)*1\n",
    "        x_bert = (x_bert*x_bert_mask).sum(axis=1)/x_bert_mask.sum(axis=1)\n",
    "\n",
    "        #x_drugs_embeddings = self.drug_embedding(x_drugs)\n",
    "        #x_drugs_embeddings_mask = (x_drugs != self.drug_embedding.weight.shape[0]-1).unsqueeze(2)*1\n",
    "        #x_drugs_embeddings_mask = x_drugs_embeddings_mask + 1e-8\n",
    "        #x_drugs_embeddings = (x_drugs_embeddings*x_drugs_embeddings_mask).sum(axis=1)/x_drugs_embeddings_mask.sum(axis=1)\n",
    "\n",
    "        x_embedding_encoded = self.embedding_encoder(x_bert)\n",
    "        x = torch.concat([x_data, x_embedding_encoded], axis=1)\n",
    "\n",
    "        y_hat = self.network(x)\n",
    "\n",
    "        return y_hat\n",
    "    \n",
    "    def fit(self, x, y):\n",
    "        \n",
    "        self.train()\n",
    "        self.optimizer.zero_grad()\n",
    "\n",
    "        y_hat = self.forward(x)\n",
    "\n",
    "        loss = self.loss(y_hat, y)\n",
    "\n",
    "        loss.backward()\n",
    "        self.optimizer.step()\n",
    "\n",
    "        return loss\n",
    "\n",
    "    def last_hidden_layer (self, x):\n",
    "        \n",
    "        self.eval()\n",
    "        \n",
    "        with torch.no_grad():          \n",
    "            x_data = x[0]\n",
    "            x_tokens = x[1]\n",
    "            #x_drugs = x[2]\n",
    "\n",
    "            x_bert = self.biobert_model.embeddings.word_embeddings(x_tokens)\n",
    "            x_bert_mask = (x_tokens != 0).unsqueeze(2)*1\n",
    "            x_bert = (x_bert*x_bert_mask).sum(axis=1)/x_bert_mask.sum(axis=1)\n",
    "\n",
    "            x_embedding_encoded = self.embedding_encoder(x_bert)\n",
    "            x = torch.concat([x_data, x_embedding_encoded], axis=1)\n",
    "\n",
    "            y_hat = network.network[:-3](x)\n",
    "\n",
    "            return y_hat\n",
    "\n",
    "    def predict(self, x):\n",
    "        \n",
    "        self.eval()\n",
    "        \n",
    "        with torch.no_grad():            \n",
    "            y_hat = self.forward(x)\n",
    "\n",
    "        return y_hat"
   ]
  },
  {
   "cell_type": "code",
   "execution_count": null,
   "metadata": {},
   "outputs": [],
   "source": [
    "device = \"cuda:0\"\n",
    "#device = \"cpu\""
   ]
  },
  {
   "cell_type": "code",
   "execution_count": null,
   "metadata": {},
   "outputs": [],
   "source": [
    "#network = neural_net(X_train_preprocess.shape[1], y_train_preprocess.shape[1], device=device)\n",
    "network = neural_net(X_train_preprocess.shape[1], 1, device=device)\n",
    "network = network.to(device)"
   ]
  },
  {
   "cell_type": "code",
   "execution_count": null,
   "metadata": {},
   "outputs": [],
   "source": [
    "from torch.utils.data import DataLoader\n",
    "from torchvision.ops.focal_loss import sigmoid_focal_loss\n",
    "import numpy as np"
   ]
  },
  {
   "cell_type": "code",
   "execution_count": null,
   "metadata": {},
   "outputs": [],
   "source": [
    "data_loader = DataLoader(range(X_train_preprocess.shape[0]), shuffle=True, batch_size=1024)"
   ]
  },
  {
   "cell_type": "code",
   "execution_count": null,
   "metadata": {},
   "outputs": [
    {
     "name": "stdout",
     "output_type": "stream",
     "text": [
      "0.691106379032135\n",
      "On test : precision = 0.5, recall = 0.00028876696505919725\n",
      "0.6006030204272507\n",
      "On test : precision = 0.7114660697934683, recall = 0.6731157955529887\n",
      "0.575636284564858\n",
      "On test : precision = 0.7091583562171797, recall = 0.7084416209452306\n",
      "0.5641533084882058\n",
      "On test : precision = 0.7105074026160701, recall = 0.7136875541438059\n",
      "Epoch 0 - loss : 0.5566418178473846\n",
      "0.5154001116752625\n",
      "On test : precision = 0.7277034414536367, recall = 0.6726826451054\n",
      "0.5331675112247467\n",
      "On test : precision = 0.7340632731483918, recall = 0.6711425546250842\n",
      "0.5320046168951252\n",
      "On test : precision = 0.7303906490310673, recall = 0.6856771585330638\n",
      "0.5311751908242108\n",
      "On test : precision = 0.7530828460603254, recall = 0.6260467802483396\n",
      "Epoch 1 - loss : 0.5314786310437359\n",
      "0.5191752910614014\n",
      "On test : precision = 0.7150190114068441, recall = 0.7240350370584272\n",
      "0.5276658352058713\n",
      "On test : precision = 0.7223930122480847, recall = 0.7124843584560593\n",
      "0.5285998987617777\n",
      "On test : precision = 0.7104558877814692, recall = 0.74102416016941\n",
      "0.5277084383457602\n",
      "On test : precision = 0.7457774871962515, recall = 0.6587737029550486\n",
      "Epoch 2 - loss : 0.5267519308796412\n",
      "0.5291849374771118\n",
      "On test : precision = 0.7194110920526015, recall = 0.7266820675714698\n",
      "0.5206360940886016\n",
      "On test : precision = 0.7333908980089394, recall = 0.6949177014149581\n",
      "0.5217355852992973\n",
      "On test : precision = 0.7369723210143807, recall = 0.688131677736067\n",
      "0.521929228622652\n",
      "On test : precision = 0.7239691845535152, recall = 0.7191259986524209\n",
      "Epoch 3 - loss : 0.5215651713594606\n",
      "0.5235981941223145\n",
      "On test : precision = 0.7369445013311489, recall = 0.6927519491770141\n",
      "0.5186061596516336\n",
      "On test : precision = 0.7351477607393114, recall = 0.696794686687843\n",
      "0.5180819096849926\n",
      "On test : precision = 0.7319912079128784, recall = 0.7052170565020695\n",
      "0.5182426832245037\n",
      "On test : precision = 0.7510562235944102, recall = 0.6673404562518048\n",
      "Epoch 4 - loss : 0.5190195072300826\n",
      "0.5245155096054077\n",
      "On test : precision = 0.7069435141772717, recall = 0.7619597651362018\n",
      "0.5169979248306539\n",
      "On test : precision = 0.7158938869665513, recall = 0.7467994994705939\n",
      "0.5154471167580998\n",
      "On test : precision = 0.7308615369544987, recall = 0.7181634421022235\n",
      "0.5157833989474464\n",
      "On test : precision = 0.7234719058466211, recall = 0.7337087303879103\n",
      "Epoch 5 - loss : 0.515931355500523\n",
      "0.4985155463218689\n",
      "On test : precision = 0.7207000093835038, recall = 0.7392915583790548\n",
      "0.5164604614866842\n",
      "On test : precision = 0.7275522459764593, recall = 0.7288478198094138\n",
      "0.5142399074129798\n",
      "On test : precision = 0.7449022055763629, recall = 0.6891904899412841\n",
      "0.5145066314163398\n",
      "On test : precision = 0.7475281552371384, recall = 0.6804312253344884\n",
      "Epoch 6 - loss : 0.5147569981556904\n",
      "0.49890613555908203\n",
      "On test : precision = 0.7430380398414578, recall = 0.6947251901049186\n",
      "0.5157188932494362\n",
      "On test : precision = 0.7427693882774508, recall = 0.6983347771681586\n",
      "0.5156954976160135\n",
      "On test : precision = 0.7385383567862006, recall = 0.7047357782269709\n",
      "0.515681599164722\n",
      "On test : precision = 0.74251832247557, recall = 0.7021368755414381\n",
      "Epoch 7 - loss : 0.5150245293786254\n",
      "0.49726372957229614\n",
      "On test : precision = 0.7318327350344426, recall = 0.7260564058138416\n",
      "0.513713940240369\n",
      "On test : precision = 0.7359238699444886, recall = 0.7146019828664935\n",
      "0.5135435411586097\n",
      "On test : precision = 0.7411841972314843, recall = 0.706083357397247\n",
      "0.5129304822299171\n",
      "On test : precision = 0.7369464967521198, recall = 0.7152757724516315\n",
      "Epoch 8 - loss : 0.5133467673500882\n",
      "0.5323821902275085\n",
      "On test : precision = 0.7329362366956352, recall = 0.7224949465781114\n",
      "0.510783731052191\n",
      "On test : precision = 0.7271386430678466, recall = 0.7355375878332852\n",
      "0.5100371665622464\n",
      "On test : precision = 0.7245657568238213, recall = 0.7448262585426894\n",
      "0.5103289775080063\n",
      "On test : precision = 0.7371029287873532, recall = 0.7158533063817499\n",
      "Epoch 9 - loss : 0.5115820087964021\n",
      "0.5278018712997437\n",
      "On test : precision = 0.7349821594408329, recall = 0.7236981422658582\n",
      "0.509880670521519\n",
      "On test : precision = 0.7158084914182475, recall = 0.7627298103763596\n",
      "0.5081589534804596\n",
      "On test : precision = 0.7391979949874686, recall = 0.7097410722879969\n",
      "0.5089700956677281\n",
      "On test : precision = 0.7339721762817395, recall = 0.7262007892963711\n",
      "Epoch 10 - loss : 0.5090479979032203\n",
      "0.519418478012085\n",
      "On test : precision = 0.7202764976958526, recall = 0.7522379439792087\n",
      "0.5076188123462224\n",
      "On test : precision = 0.7349367960257734, recall = 0.7191259986524209\n",
      "0.5096459284943727\n",
      "On test : precision = 0.7378349093774625, recall = 0.7210029839253056\n",
      "0.5096920878190139\n",
      "On test : precision = 0.7328155339805825, recall = 0.7265376840889403\n",
      "Epoch 11 - loss : 0.5086245969126496\n",
      "0.5080099105834961\n",
      "On test : precision = 0.7295591469828823, recall = 0.7343343921455385\n",
      "0.5070724266000314\n",
      "On test : precision = 0.7358842285994603, recall = 0.721965540475503\n",
      "0.5059742887518299\n",
      "On test : precision = 0.7328332930075006, recall = 0.7288478198094138\n",
      "0.5064577097908602\n",
      "On test : precision = 0.7308452673706544, recall = 0.7294734815670421\n",
      "Epoch 12 - loss : 0.5078333315970023\n",
      "0.49358904361724854\n",
      "On test : precision = 0.7290276453765491, recall = 0.7361151217634035\n",
      "0.5067540569470661\n",
      "On test : precision = 0.7323598635861472, recall = 0.73380498604293\n",
      "0.5065122897648693\n",
      "On test : precision = 0.7542148234545647, recall = 0.6846664741553566\n",
      "0.5084922199827492\n",
      "On test : precision = 0.7233796296296297, recall = 0.7519973048416595\n",
      "Epoch 13 - loss : 0.5075114444086823\n",
      "0.49666109681129456\n",
      "On test : precision = 0.7252100840336134, recall = 0.7476176725382616\n",
      "0.5051100498969012\n",
      "On test : precision = 0.7369399334768147, recall = 0.7250938492636443\n",
      "0.5057181871649045\n",
      "On test : precision = 0.7466612294831277, recall = 0.7049764173645202\n",
      "0.5072105418011992\n",
      "On test : precision = 0.7283676553939165, recall = 0.7421792280296468\n",
      "Epoch 14 - loss : 0.5062240871447551\n",
      "0.5191906690597534\n",
      "On test : precision = 0.7395544554455445, recall = 0.7189816151698912\n",
      "0.504310804723513\n",
      "On test : precision = 0.7552971164569061, recall = 0.684522090672827\n",
      "0.5053237096883765\n",
      "On test : precision = 0.7340909090909091, recall = 0.7306285494272788\n",
      "0.5062640938053892\n",
      "On test : precision = 0.736219124480313, recall = 0.7244200596785061\n",
      "Epoch 15 - loss : 0.5053795011737678\n",
      "0.4989502429962158\n",
      "On test : precision = 0.7325291977790542, recall = 0.7365482722109924\n",
      "0.5064039799836603\n",
      "On test : precision = 0.7364736765349278, recall = 0.729136586774473\n",
      "0.505478177497636\n",
      "On test : precision = 0.7345682005527808, recall = 0.7290884589469632\n",
      "0.5045830322262457\n",
      "On test : precision = 0.7247833943381365, recall = 0.7528636057368371\n",
      "Epoch 16 - loss : 0.5043610495102556\n",
      "0.4920410215854645\n",
      "On test : precision = 0.7243070658460969, recall = 0.7533448840119357\n",
      "0.5003653608336307\n",
      "On test : precision = 0.7195271096616388, recall = 0.7645105399942247\n",
      "0.5010813141047065\n",
      "On test : precision = 0.7379865508270751, recall = 0.7236018866108384\n",
      "0.5018343973991483\n",
      "On test : precision = 0.7353953556018811, recall = 0.7300510154971604\n",
      "Epoch 17 - loss : 0.5035921111137052\n",
      "0.4888218641281128\n",
      "On test : precision = 0.7268319970165952, recall = 0.7504090865338339\n",
      "0.5015489895745079\n",
      "On test : precision = 0.7332950136513867, recall = 0.7367889113485417\n",
      "0.5033437172275278\n",
      "On test : precision = 0.7282874905802562, recall = 0.7442005967850611\n",
      "0.5026719430554348\n",
      "On test : precision = 0.7377786468517794, recall = 0.7263451727789008\n",
      "Epoch 18 - loss : 0.5028010086168216\n",
      "0.5066063404083252\n",
      "On test : precision = 0.7345524542829643, recall = 0.7346231591105977\n",
      "0.5018388912229255\n",
      "On test : precision = 0.719209142027934, recall = 0.763307344306478\n",
      "0.5002150563754846\n",
      "On test : precision = 0.7373129950132004, recall = 0.7258157666762922\n",
      "0.5022425656500845\n",
      "On test : precision = 0.7278510838831291, recall = 0.7433342958898835\n",
      "Epoch 19 - loss : 0.5019486363175549\n",
      "0.47926339507102966\n",
      "On test : precision = 0.7323501427212179, recall = 0.7408797766868803\n",
      "0.49971008772897246\n",
      "On test : precision = 0.7300813777441333, recall = 0.7426605063047454\n",
      "0.5002152393409862\n",
      "On test : precision = 0.7273622970817303, recall = 0.7461257098854558\n",
      "0.5013288241684238\n",
      "On test : precision = 0.7416225313072315, recall = 0.7210992395803253\n",
      "Epoch 20 - loss : 0.5008858129193511\n",
      "0.5151246786117554\n",
      "On test : precision = 0.735239852398524, recall = 0.728799691981904\n",
      "0.4983244101599892\n",
      "On test : precision = 0.7248408818374689, recall = 0.7563769371450573\n",
      "0.4970505050758817\n",
      "On test : precision = 0.730860225229488, recall = 0.7433824237173934\n",
      "0.49717872661609586\n",
      "On test : precision = 0.7449337881219904, recall = 0.714746366349023\n",
      "Epoch 21 - loss : 0.49780065651181377\n",
      "0.48739099502563477\n",
      "On test : precision = 0.7354018115243784, recall = 0.7346231591105977\n",
      "0.49334852795789735\n",
      "On test : precision = 0.7303307264675398, recall = 0.7460775820579459\n",
      "0.49463323218312427\n",
      "On test : precision = 0.7429808841099164, recall = 0.7183078255847531\n",
      "0.49579841146041387\n",
      "On test : precision = 0.7449392712550608, recall = 0.7084416209452306\n",
      "Epoch 22 - loss : 0.4965084141568293\n",
      "0.4926077127456665\n",
      "On test : precision = 0.7217624590760277, recall = 0.7639330060641063\n",
      "0.49502673007474085\n",
      "On test : precision = 0.7273743537193162, recall = 0.7515641543940706\n",
      "0.4956098737111732\n",
      "On test : precision = 0.7344678811121764, recall = 0.7373664452786601\n",
      "0.4958594325570965\n",
      "On test : precision = 0.7506115014311736, recall = 0.6941476561748002\n",
      "Epoch 23 - loss : 0.495923723374741\n",
      "0.47399887442588806\n",
      "On test : precision = 0.7381651017214398, recall = 0.7264414284339205\n",
      "0.4940861616984452\n",
      "On test : precision = 0.7452663468821005, recall = 0.7103667340456252\n",
      "0.49426327445613805\n",
      "On test : precision = 0.7333174224343676, recall = 0.7393878140340745\n",
      "0.4953075092892314\n",
      "On test : precision = 0.7655076495132128, recall = 0.662238906535759\n",
      "Epoch 24 - loss : 0.4953661680221558\n",
      "0.5228779315948486\n",
      "On test : precision = 0.7442258340461934, recall = 0.7118105688709212\n",
      "0.4923725653402876\n",
      "On test : precision = 0.7376028030561098, recall = 0.7294734815670421\n",
      "0.4930079595663061\n",
      "On test : precision = 0.7340628882729618, recall = 0.7392915583790548\n",
      "0.49445695774103715\n",
      "On test : precision = 0.7341409901745684, recall = 0.7407835210318606\n",
      "Epoch 25 - loss : 0.49466084581387193\n",
      "0.46513304114341736\n",
      "On test : precision = 0.7360903344110409, recall = 0.7341418808354991\n",
      "0.49388582281547017\n",
      "On test : precision = 0.7195767195767195, recall = 0.765809991336991\n",
      "0.49362160183897064\n",
      "On test : precision = 0.7461990675045611, recall = 0.7086341322552699\n",
      "0.49338837715478434\n",
      "On test : precision = 0.7481032639136412, recall = 0.7070940417749543\n",
      "Epoch 26 - loss : 0.49349285349061217\n",
      "0.4880646765232086\n",
      "On test : precision = 0.7410621825533803, recall = 0.7232649918182693\n",
      "0.49176528194163105\n",
      "On test : precision = 0.7345693837360103, recall = 0.7360188661083839\n",
      "0.49261100775566863\n",
      "On test : precision = 0.7456571944974395, recall = 0.7147944941765328\n",
      "0.49288865616947314\n",
      "On test : precision = 0.7505957931820537, recall = 0.6972759649629415\n",
      "Epoch 27 - loss : 0.4931577115873747\n",
      "0.47572997212409973\n",
      "On test : precision = 0.7506438652518801, recall = 0.7013668303012802\n",
      "0.49050306595198\n",
      "On test : precision = 0.7380428941325907, recall = 0.7270670901915488\n",
      "0.4920397731498699\n",
      "On test : precision = 0.7261525681849647, recall = 0.7572913658677447\n",
      "0.492620616260161\n",
      "On test : precision = 0.7270705947748749, recall = 0.75541438059486\n",
      "Epoch 28 - loss : 0.4932937731471243\n",
      "0.5012404918670654\n",
      "On test : precision = 0.7346705417123255, recall = 0.7421311002021369\n",
      "0.4935308385013354\n",
      "On test : precision = 0.7320115733055068, recall = 0.7427567619597651\n",
      "0.4925164138499777\n",
      "On test : precision = 0.7216824049997719, recall = 0.7613822312060834\n",
      "0.4938466421195439\n",
      "On test : precision = 0.750325436084353, recall = 0.693521994417172\n",
      "Epoch 29 - loss : 0.4946022235894505\n",
      "0.4953339099884033\n",
      "On test : precision = 0.7297094305966296, recall = 0.7481470786408702\n",
      "0.49041805763055785\n",
      "On test : precision = 0.7502446561936646, recall = 0.7010299355087112\n",
      "0.4931423207420615\n",
      "On test : precision = 0.7352813956841447, recall = 0.736307633073443\n",
      "0.4925843425763406\n",
      "On test : precision = 0.7460094368035338, recall = 0.7152757724516315\n",
      "Epoch 30 - loss : 0.4933103129833559\n",
      "0.5755341053009033\n",
      "On test : precision = 0.7485953621411788, recall = 0.7053614399845991\n",
      "0.4932693898087681\n",
      "On test : precision = 0.7366245136186771, recall = 0.7288959476369237\n",
      "0.49100364855865936\n",
      "On test : precision = 0.7430106457068948, recall = 0.7188372316873616\n",
      "0.49268141141365535\n",
      "On test : precision = 0.7314221048660883, recall = 0.7465588603330445\n",
      "Epoch 31 - loss : 0.49313025632991064\n",
      "0.46600431203842163\n",
      "On test : precision = 0.7224534601838722, recall = 0.7601790355183367\n",
      "0.4903270124208809\n",
      "On test : precision = 0.7441521203279843, recall = 0.7119549523534507\n",
      "0.49055656909349543\n",
      "On test : precision = 0.7316389548693587, recall = 0.7412166714794494\n",
      "0.492653287625392\n",
      "On test : precision = 0.7404246971703202, recall = 0.72663393974396\n",
      "Epoch 32 - loss : 0.4919591864453086\n",
      "0.4467436969280243\n",
      "On test : precision = 0.7414435618319114, recall = 0.7277408797766869\n",
      "0.4866951137486071\n",
      "On test : precision = 0.7230283334096215, recall = 0.7602271633458466\n",
      "0.4884573491058539\n",
      "On test : precision = 0.735220368405825, recall = 0.73380498604293\n",
      "0.49062324639570676\n",
      "On test : precision = 0.7195598472939592, recall = 0.7710559245355665\n",
      "Epoch 33 - loss : 0.49098759293556216\n",
      "0.4772811532020569\n",
      "On test : precision = 0.7395291809710642, recall = 0.7257195110212725\n",
      "0.4887826596156205\n",
      "On test : precision = 0.7256522142790828, recall = 0.7523341996342285\n",
      "0.49171305325493886\n",
      "On test : precision = 0.728898459809934, recall = 0.7493502743286168\n",
      "0.49049466204801667\n",
      "On test : precision = 0.7414505450744189, recall = 0.7168639907594572\n",
      "Epoch 34 - loss : 0.49134464648705495\n",
      "0.48381781578063965\n",
      "On test : precision = 0.7229911835914302, recall = 0.7617191259986524\n",
      "0.49350475320721615\n",
      "On test : precision = 0.7532263963634463, recall = 0.6938107613822312\n",
      "0.4918556806459949\n",
      "On test : precision = 0.7408834865105247, recall = 0.7216286456829338\n",
      "0.4905527135066416\n",
      "On test : precision = 0.735855421686747, recall = 0.7348637982481471\n",
      "Epoch 35 - loss : 0.49083545019355\n",
      "0.50368332862854\n",
      "On test : precision = 0.7351413733410271, recall = 0.7357782269708345\n",
      "0.490445864082563\n",
      "On test : precision = 0.7325553703262682, recall = 0.7402059871017422\n",
      "0.48895341009642945\n",
      "On test : precision = 0.742154915590864, recall = 0.7193666377899701\n",
      "0.4895016640127695\n",
      "On test : precision = 0.7154373775164796, recall = 0.7730772932909808\n",
      "Epoch 36 - loss : 0.49018767596800117\n",
      "0.4943732023239136\n",
      "On test : precision = 0.741195092995647, recall = 0.7211473674078352\n",
      "0.48728429179380434\n",
      "On test : precision = 0.7321445599313435, recall = 0.7390509192415055\n",
      "0.4889129802065702\n",
      "On test : precision = 0.7385675200312684, recall = 0.7275483684666474\n",
      "0.4895449759952254\n",
      "On test : precision = 0.7478923311325546, recall = 0.7087303879102897\n",
      "Epoch 37 - loss : 0.4894779199286352\n",
      "0.5134391784667969\n",
      "On test : precision = 0.7131474103585658, recall = 0.7753393011839446\n",
      "0.48750126656919424\n",
      "On test : precision = 0.7298979687353739, recall = 0.7505534700163634\n",
      "0.4876820467301269\n",
      "On test : precision = 0.7359180335754486, recall = 0.736307633073443\n",
      "0.48870848401440337\n",
      "On test : precision = 0.7342398616182971, recall = 0.7354413321782655\n",
      "Epoch 38 - loss : 0.4888177595561064\n",
      "0.5162264704704285\n",
      "On test : precision = 0.7294762998734118, recall = 0.7488208682260082\n",
      "0.4837004595463819\n",
      "On test : precision = 0.7297081355454247, recall = 0.7472326499181827\n",
      "0.4879101812839508\n",
      "On test : precision = 0.7376440711076382, recall = 0.7269227067090192\n",
      "0.4885243367515133\n",
      "On test : precision = 0.7336136059621632, recall = 0.7390509192415055\n",
      "Epoch 39 - loss : 0.48852996003778676\n",
      "0.4767839014530182\n",
      "On test : precision = 0.7173160756819918, recall = 0.7681682548849745\n",
      "0.48714618989736724\n",
      "On test : precision = 0.7371397922863133, recall = 0.7275964962941572\n",
      "0.48659720883440616\n",
      "On test : precision = 0.7303243472923847, recall = 0.7444893637501203\n",
      "0.4855928495278786\n",
      "On test : precision = 0.7257344737820751, recall = 0.7513716430840311\n",
      "Epoch 40 - loss : 0.4853414050385922\n",
      "0.4991248846054077\n",
      "On test : precision = 0.7392603477834925, recall = 0.7263451727789008\n",
      "0.4837396457643792\n",
      "On test : precision = 0.7260178471834914, recall = 0.75180479353162\n",
      "0.4851182410076483\n",
      "On test : precision = 0.7457893668831169, recall = 0.7075271922225431\n",
      "0.4848854331875164\n",
      "On test : precision = 0.7241426737575647, recall = 0.7601790355183367\n",
      "Epoch 41 - loss : 0.48461107302315626\n",
      "0.4812166690826416\n",
      "On test : precision = 0.7516588652847076, recall = 0.7032919434016749\n",
      "0.4824957245647317\n",
      "On test : precision = 0.7348794687966126, recall = 0.7350563095581866\n",
      "0.48231442339384734\n",
      "On test : precision = 0.7364314789687924, recall = 0.7313985946674367\n",
      "0.48301191365600027\n",
      "On test : precision = 0.7260126936718313, recall = 0.7487246125709885\n",
      "Epoch 42 - loss : 0.48370890670184846\n",
      "0.4642280340194702\n",
      "On test : precision = 0.7284904688304997, recall = 0.7485802290884589\n",
      "0.4810808053111086\n",
      "On test : precision = 0.7414962618210625, recall = 0.7207623447877562\n",
      "0.4822801913491529\n",
      "On test : precision = 0.7300451807228916, recall = 0.7465588603330445\n",
      "0.4838001663700687\n",
      "On test : precision = 0.7426664674535585, recall = 0.7176821638271248\n",
      "Epoch 43 - loss : 0.4833500043500828\n",
      "0.48344671726226807\n",
      "On test : precision = 0.7282776710852967, recall = 0.7482914621233997\n",
      "0.47828448113828603\n",
      "On test : precision = 0.7443261699136373, recall = 0.7134469150062566\n",
      "0.47993328796690377\n",
      "On test : precision = 0.7382389011528084, recall = 0.7242756761959765\n",
      "0.482173868984083\n",
      "On test : precision = 0.7241951849460382, recall = 0.7557031475599192\n",
      "Epoch 44 - loss : 0.48240686473967154\n",
      "0.4691382050514221\n",
      "On test : precision = 0.7398253662868137, recall = 0.7217730291654635\n",
      "0.4799038248487038\n",
      "On test : precision = 0.7180549302116164, recall = 0.7675425931273462\n",
      "0.48127377181503905\n",
      "On test : precision = 0.7440377566902646, recall = 0.7132062758687073\n",
      "0.48116818308038173\n",
      "On test : precision = 0.7240358827337464, recall = 0.753585523149485\n",
      "Epoch 45 - loss : 0.4820579810233056\n",
      "0.4957138001918793\n",
      "On test : precision = 0.7318316030098104, recall = 0.739580325344114\n",
      "0.4815530251748491\n",
      "On test : precision = 0.7397954165437198, recall = 0.7239869092309174\n",
      "0.4814220647610242\n",
      "On test : precision = 0.7348794687966126, recall = 0.7350563095581866\n",
      "0.4813806482921803\n",
      "On test : precision = 0.7248872111223644, recall = 0.7578207719703532\n",
      "Epoch 46 - loss : 0.48105589106113095\n",
      "0.4731432795524597\n",
      "On test : precision = 0.7445958763915931, recall = 0.7178265473096545\n",
      "0.47872081457978427\n",
      "On test : precision = 0.7366201279813845, recall = 0.7313023390124169\n",
      "0.4795397832915558\n",
      "On test : precision = 0.72129574633344, recall = 0.7597940128982578\n",
      "0.4801403841505019\n",
      "On test : precision = 0.7380836100800938, recall = 0.727355857156608\n",
      "Epoch 47 - loss : 0.48055834536310993\n",
      "0.47339731454849243\n",
      "On test : precision = 0.7346831070383342, recall = 0.7369814226585812\n",
      "0.4796473847167327\n",
      "On test : precision = 0.738722447583207, recall = 0.7274521128116277\n",
      "0.4792541035668767\n",
      "On test : precision = 0.735829812035553, recall = 0.729136586774473\n",
      "0.4792395104403512\n",
      "On test : precision = 0.7345323741007195, recall = 0.7370776783136009\n",
      "Epoch 48 - loss : 0.479706547079207\n",
      "0.45964089035987854\n",
      "On test : precision = 0.7396514161220044, recall = 0.7189334873423814\n",
      "0.4777260641060253\n",
      "On test : precision = 0.7351035016444186, recall = 0.7314948503224564\n",
      "0.4780597803901084\n",
      "On test : precision = 0.7253739637845598, recall = 0.7538261622870344\n",
      "0.4789733001560072\n",
      "On test : precision = 0.7376690339527191, recall = 0.729858504187121\n",
      "Epoch 49 - loss : 0.4793024491660203\n"
     ]
    }
   ],
   "source": [
    "n_epochs = 50\n",
    "n_epoch_print = 1\n",
    "n_batch_print = 100\n",
    "\n",
    "for i in range(n_epochs):\n",
    "\n",
    "    losses = []\n",
    "\n",
    "    j = 0\n",
    "    for indices in data_loader:\n",
    "        X_tensor = X_train_preprocess[indices,:].to(device)\n",
    "        X_train_tokens_indices = list(operator.itemgetter(*indices)(X_train_tokens))\n",
    "        X_train_tokens_indices = pad_sequence(X_train_tokens_indices, batch_first=True, padding_value=biobert_tokenizer(\"[PAD]\")[\"input_ids\"][1]).to(device)\n",
    "        #X_train_drug_tokens_indices = list(operator.itemgetter(*indices)(X_train_tokens_drug))\n",
    "        #X_train_drug_tokens_indices = pad_sequence(X_train_drug_tokens_indices, batch_first=True, padding_value=len(drug_encoder.categories_[0])).to(device)\n",
    "        #X_train_drug_tokens_indices = X_train_drug_tokens_indices.int()\n",
    "\n",
    "        y_tensor = y_train_preprocess[indices,5].unsqueeze(1).to(device)\n",
    "        #y_tensor = y_train_preprocess[indices,:].to(device)\n",
    "\n",
    "        loss = network.fit((X_tensor, X_train_tokens_indices), y_tensor).detach().cpu().item()\n",
    "\n",
    "        losses.append(loss)\n",
    "\n",
    "        if j%n_batch_print == 0:\n",
    "            print(np.array(losses).mean())\n",
    "\n",
    "            y_test_hat, y_true = get_test_evaluation(X_test_preprocess, X_test_tokens)\n",
    "            prec = precision_score(y_true, y_test_hat, zero_division=0)\n",
    "            rec = recall_score(y_true, y_test_hat, zero_division=0)\n",
    "            \n",
    "            print(f\"On test : precision = {prec}, recall = {rec}\")\n",
    "\n",
    "        j += 1\n",
    "\n",
    "    if (i%n_epoch_print) == 0:\n",
    "        mean_loss = np.array(losses).mean()\n",
    "        print(f\"Epoch {i} - loss : {mean_loss}\")"
   ]
  },
  {
   "cell_type": "markdown",
   "metadata": {},
   "source": [
    "# Analyse des faux positifs"
   ]
  },
  {
   "cell_type": "code",
   "execution_count": null,
   "metadata": {},
   "outputs": [],
   "source": [
    "y_hats = []\n",
    "y_val = []\n",
    "\n",
    "data_loader_noshuffle = DataLoader(range(X_train_preprocess.shape[0]), shuffle=False, batch_size=1024)\n",
    "\n",
    "for indices in data_loader_noshuffle:\n",
    "    X_tensor = X_train_preprocess[indices,:].to(device)\n",
    "    X_train_tokens_indices = list(operator.itemgetter(*indices)(X_train_tokens))\n",
    "    X_train_tokens_indices = pad_sequence(X_train_tokens_indices, batch_first=True, padding_value=biobert_tokenizer(\"[PAD]\")[\"input_ids\"][1]).to(device)\n",
    "\n",
    "    y_hats.append(\n",
    "        network.predict((X_tensor, X_train_tokens_indices)).detach().cpu()\n",
    "    )\n",
    "    y_val.append(y_train_preprocess[indices,5])\n",
    "\n",
    "y_hat = np.concatenate(y_hats)\n",
    "y_val = np.concatenate(y_val)"
   ]
  },
  {
   "cell_type": "code",
   "execution_count": null,
   "metadata": {},
   "outputs": [],
   "source": [
    "fp = (y_hat >= 0.65)*1 & ((y_val == 0)*1).reshape(-1, 1)"
   ]
  },
  {
   "cell_type": "code",
   "execution_count": null,
   "metadata": {},
   "outputs": [
    {
     "data": {
      "text/plain": [
       "416252                      UNRESPPONSIVE\n",
       "441947    Abd pain, Abnormal CT, Transfer\n",
       "189529      Chest pain, Palpitations, ILI\n",
       "240265                 Weakness, Transfer\n",
       "291786                     Hallucinations\n",
       "                       ...               \n",
       "252801                           s/p Fall\n",
       "239629                           Abd pain\n",
       "278167            Hyperglycemia, Weakness\n",
       "137337                         Wound eval\n",
       "131932               s/p Fall, R Hip pain\n",
       "Name: chiefcomplaint, Length: 24690, dtype: string"
      ]
     },
     "execution_count": 206,
     "metadata": {},
     "output_type": "execute_result"
    }
   ],
   "source": [
    "X_train.iloc[np.where(fp == 1)[0],:][\"chiefcomplaint\"]"
   ]
  },
  {
   "cell_type": "code",
   "execution_count": null,
   "metadata": {},
   "outputs": [
    {
     "data": {
      "image/png": "[encoded data removed]",
      "text/plain": [
       "<Figure size 720x720 with 1 Axes>"
      ]
     },
     "metadata": {
      "needs_background": "light"
     },
     "output_type": "display_data"
    }
   ],
   "source": [
    "from sklearn.metrics import roc_curve, roc_auc_score\n",
    "\n",
    "fpr, tpr, thresholds = roc_curve(\n",
    "    y_val,\n",
    "    y_hat\n",
    ")\n",
    "\n",
    "auc = roc_auc_score(y_val, y_hat)\n",
    "\n",
    "plt.figure(figsize=(10,10))\n",
    "\n",
    "plt.plot(fpr,tpr,label=\"AUC=\"+str(auc))\n",
    "plt.ylabel('True Positive Rate')\n",
    "plt.xlabel('False Positive Rate')\n",
    "plt.legend(loc=4)\n",
    "plt.show()"
   ]
  },
  {
   "cell_type": "code",
   "execution_count": null,
   "metadata": {},
   "outputs": [],
   "source": [
    "batch_size = 256\n",
    "\n",
    "def get_test_evaluation(X_test_preprocess, X_test_tokens):\n",
    "    y_hats = []\n",
    "\n",
    "    for idx in range(0, X_test_preprocess.shape[0], batch_size):\n",
    "        X_test_tensor = X_test_preprocess[idx:idx+batch_size].to(device)\n",
    "        X_test_tokens_indices = X_test_tokens[idx:idx+batch_size]\n",
    "        X_test_tokens_indices = pad_sequence(X_test_tokens_indices, batch_first=True, padding_value=biobert_tokenizer(\"[PAD]\")[\"input_ids\"][1]).to(device)\n",
    "        #X_test_drug_tokens_indices = X_test_tokens_drug[idx:idx+batch_size]\n",
    "        #X_test_drug_tokens_indices = pad_sequence(X_test_drug_tokens_indices, batch_first=True, padding_value=len(drug_encoder.categories_[0])).to(device)\n",
    "        #X_test_drug_tokens_indices = X_test_drug_tokens_indices.int()\n",
    "\n",
    "        y_hat_ = ((network.predict((X_test_tensor, X_test_tokens_indices)).detach().cpu()) >= 0.65)*1\n",
    "\n",
    "        y_hats.append(y_hat_)\n",
    "\n",
    "    y_hat = torch.concat(y_hats, axis=0).numpy()\n",
    "    y_true = y_test_preprocess[:,[5]]\n",
    "    #y_true = y_test_preprocess[:,:]\n",
    "\n",
    "    return y_hat, y_true\n",
    "\n",
    "y_hat, y_true = get_test_evaluation(X_test_preprocess, X_test_tokens)\n",
    "titles = y_train.columns.tolist()[1:]\n",
    "titles = y_train.columns[[6]].tolist()"
   ]
  },
  {
   "cell_type": "code",
   "execution_count": null,
   "metadata": {},
   "outputs": [
    {
     "data": {
      "image/png": "[encoded data removed]",
      "text/plain": [
       "<Figure size 2160x2160 with 4 Axes>"
      ]
     },
     "metadata": {
      "needs_background": "light"
     },
     "output_type": "display_data"
    }
   ],
   "source": [
    "n_cols = 3\n",
    "n_rows = len(titles) // n_cols + int((len(titles)%n_cols) != 0)\n",
    "\n",
    "figs, axs = plt.subplots(nrows=n_rows, ncols=n_cols, figsize=(30,30))\n",
    "axs_flatten = axs.flatten()\n",
    "\n",
    "for i in range(len(titles)):\n",
    "    cm_plot = ConfusionMatrixDisplay(confusion_matrix(y_true[:,i], y_hat[:,i]))\n",
    "    cm_plot.plot(ax=axs_flatten[i])\n",
    "    axs_flatten[i].set_title(titles[i])\n",
    "\n",
    "plt.show()"
   ]
  },
  {
   "cell_type": "code",
   "execution_count": null,
   "metadata": {},
   "outputs": [
    {
     "data": {
      "text/html": [
       "<div>\n",
       "<style scoped>\n",
       "    .dataframe tbody tr th:only-of-type {\n",
       "        vertical-align: middle;\n",
       "    }\n",
       "\n",
       "    .dataframe tbody tr th {\n",
       "        vertical-align: top;\n",
       "    }\n",
       "\n",
       "    .dataframe thead th {\n",
       "        text-align: right;\n",
       "    }\n",
       "</style>\n",
       "<table border=\"1\" class=\"dataframe\">\n",
       "  <thead>\n",
       "    <tr style=\"text-align: right;\">\n",
       "      <th></th>\n",
       "      <th>precision</th>\n",
       "      <th>recall</th>\n",
       "      <th>f1_score</th>\n",
       "    </tr>\n",
       "  </thead>\n",
       "  <tbody>\n",
       "    <tr>\n",
       "      <th>IonoC</th>\n",
       "      <td>0.8</td>\n",
       "      <td>0.58</td>\n",
       "      <td>0.67</td>\n",
       "    </tr>\n",
       "  </tbody>\n",
       "</table>\n",
       "</div>"
      ],
      "text/plain": [
       "       precision  recall  f1_score\n",
       "IonoC        0.8    0.58      0.67"
      ]
     },
     "execution_count": 210,
     "metadata": {},
     "output_type": "execute_result"
    }
   ],
   "source": [
    "pd.DataFrame.from_dict(\n",
    "    dict(zip(titles, np.concatenate([\n",
    "        precision_score(y_true, y_hat, average=\"binary\", zero_division=0).reshape(1,-1),\n",
    "        recall_score(y_true, y_hat, average=\"binary\", zero_division=0).reshape(1,-1),\n",
    "        f1_score(y_true, y_hat, average=\"binary\").reshape(1,-1)\n",
    "    ], axis=0).T)),\n",
    "    orient=\"index\",\n",
    "    columns=[\"precision\",\"recall\",\"f1_score\"]\n",
    ").round(2)"
   ]
  },
  {
   "cell_type": "code",
   "execution_count": null,
   "metadata": {},
   "outputs": [],
   "source": []
  }
 ],
 "metadata": {
  "interpreter": {
   "hash": "28b293e0c0671e44c7281dde6399c7c7419d3faca031d22494da8635907ada72"
  },
  "kernelspec": {
   "display_name": "Python 3.9.7 ('base')",
   "language": "python",
   "name": "python3"
  },
  "language_info": {
   "codemirror_mode": {
    "name": "ipython",
    "version": 3
   },
   "file_extension": ".py",
   "mimetype": "text/x-python",
   "name": "python",
   "nbconvert_exporter": "python",
   "pygments_lexer": "ipython3",
   "version": "3.9.7"
  },
  "orig_nbformat": 4
 },
 "nbformat": 4,
 "nbformat_minor": 2
}
